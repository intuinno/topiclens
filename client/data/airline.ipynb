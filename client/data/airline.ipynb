{
 "cells": [
  {
   "cell_type": "markdown",
   "metadata": {},
   "source": [
    "#Gatherplot IPython Demo Using Airline Data\n",
    "\n",
    "This notebook shows how we can use the gatherplot with ipython \n",
    "\n",
    "## Data Source\n",
    "\n",
    "* 2008 Airline Data from http://stat-computing.org/dataexpo/2009/   \n",
    "\n",
    "* Gatherplot [Gatherplot.org](http://gatherplot.org/)\n",
    "\n",
    "* IPython [ipython.org](http://ipython.org/)"
   ]
  },
  {
   "cell_type": "code",
   "execution_count": 1,
   "metadata": {
    "collapsed": true
   },
   "outputs": [],
   "source": [
    "import pandas as pd\n",
    "import numpy as np"
   ]
  },
  {
   "cell_type": "code",
   "execution_count": 2,
   "metadata": {
    "collapsed": false
   },
   "outputs": [
    {
     "data": {
      "text/plain": [
       "(7009728, 29)"
      ]
     },
     "execution_count": 2,
     "metadata": {},
     "output_type": "execute_result"
    }
   ],
   "source": [
    "alldata = pd.read_csv('2008.csv')\n",
    "alldata.shape"
   ]
  },
  {
   "cell_type": "markdown",
   "metadata": {},
   "source": [
    "## Data Cleaning\n",
    "\n",
    "Let's remove some of destinations/origin/carrier.\n",
    "\n",
    "First We will see histogram of data to get a few major destinations.  \n",
    "\n",
    "Among all the carrier, we will only select WN, AA, and OO. \n",
    "\n",
    "Among all the destination and origin, we will select only 'DFW','ORD','ATL','LAX','PHX'\n",
    "\n",
    "This filtering reduced the number of records from 7009728 to 67873."
   ]
  },
  {
   "cell_type": "code",
   "execution_count": 3,
   "metadata": {
    "collapsed": false
   },
   "outputs": [
    {
     "data": {
      "text/plain": [
       "(30000, 29)"
      ]
     },
     "execution_count": 3,
     "metadata": {},
     "output_type": "execute_result"
    }
   ],
   "source": [
    "filtered_data = alldata[alldata['UniqueCarrier'].isin(['WN','AA','OO'])]\n",
    "\n",
    "filtered_data = filtered_data[filtered_data['Origin'].isin(['DFW','ORD','ATL','LAX','PHX'])]\n",
    "filtered_data['Origin'].value_counts()\n",
    "\n",
    "filtered_data = filtered_data[filtered_data['Dest'].isin(['DFW','ORD','ATL','LAX','PHX'])]\n",
    "filtered_data['Dest'].value_counts()\n",
    "\n",
    "filtered_30k = filtered_data.loc[np.random.choice(filtered_data.index, 30000, replace=False)]\n",
    "\n",
    "filtered_30k.shape"
   ]
  },
  {
   "cell_type": "markdown",
   "metadata": {},
   "source": [
    "## Gatherplot upload\n",
    "\n",
    "This will upload the data to gatherplot and display as an iframe.  "
   ]
  },
  {
   "cell_type": "code",
   "execution_count": 4,
   "metadata": {
    "collapsed": true
   },
   "outputs": [],
   "source": [
    "import dropbox\n",
    "import re\n",
    "import time\n",
    "from firebase import firebase\n",
    "from IPython.display import IFrame\n",
    "\n",
    "def publish_gatherplot(p, dataname):\n",
    "    \n",
    "    filename = str(time.time())+'.csv'\n",
    "    p.index.name = 'indexPandas'\n",
    "    p.to_csv(filename)\n",
    "    access_token = 'vwezSddRAD0AAAAAAAA0K2kAPqcpKnsShlfAPyIxSAYG0l2GxKfx5vtEkSyCeNOk'\n",
    "    client = dropbox.client.DropboxClient(access_token)\n",
    "    f = open(filename,'rb')\n",
    "    response = client.put_file('./gatherplot/' + filename,f)\n",
    "    print \"uploaded:\", response\n",
    "    \n",
    "    response = client.share('./gatherplot/' + filename, short_url=False)\n",
    "    print 'Shared:', response\n",
    "    url = response['url']\n",
    "    match = re.search(r'https://www\\.dropbox\\.com/s/(.+)\\?dl=0', url)\n",
    "    if match:\n",
    "#     print match.group(1)\n",
    "        download_url = 'https://dl.dropboxusercontent.com/s/' + match.group(1)\n",
    "        print download_url\n",
    "        \n",
    "    aFirebase = firebase.FirebaseApplication('https://gatherplot-dev.firebaseio.com',None)\n",
    "    \n",
    "    new_csv = {'name':dataname, \n",
    "           'uploader':\"google:110953151430048855242\", \n",
    "           'uploaderName': \"Deok Gun Park\",\n",
    "           'url': download_url } \n",
    "\n",
    "    result = aFirebase.post('/csv',new_csv)\n",
    "    print result\n",
    "    \n",
    "\n",
    "    return 'https://gatherplot-dev.firebaseapp.com/#/load/' + result['name']"
   ]
  },
  {
   "cell_type": "code",
   "execution_count": 5,
   "metadata": {
    "collapsed": false
   },
   "outputs": [
    {
     "name": "stdout",
     "output_type": "stream",
     "text": [
      "uploaded: {u'icon': u'page_white', u'bytes': 3583380, u'thumb_exists': False, u'rev': u'2638a00af1980', u'modified': u'Wed, 25 Nov 2015 17:39:24 +0000', u'shareable': False, u'client_mtime': u'Wed, 25 Nov 2015 17:39:24 +0000', u'path': u'/gatherplot/1448473158.97.csv', u'is_dir': False, u'size': u'3.4 MB', u'root': u'dropbox', u'mime_type': u'text/csv', u'revision': 156554}\n",
      "Shared: {u'url': u'https://www.dropbox.com/s/ep06nif62nrgi3g/1448473158.97.csv?dl=0', u'expires': u'Tue, 01 Jan 2030 00:00:00 +0000', u'visibility': u'PUBLIC'}\n",
      "https://dl.dropboxusercontent.com/s/ep06nif62nrgi3g/1448473158.97.csv\n",
      "{u'name': u'-K3zicA9Yqan93kI15lC'}\n"
     ]
    },
    {
     "data": {
      "text/html": [
       "\n",
       "        <iframe\n",
       "            width=\"900\"\n",
       "            height=\"900\"\n",
       "            src=\"https://gatherplot-dev.firebaseapp.com/#/load/-K3zicA9Yqan93kI15lC\"\n",
       "            frameborder=\"0\"\n",
       "            allowfullscreen\n",
       "        ></iframe>\n",
       "        "
      ],
      "text/plain": [
       "<IPython.lib.display.IFrame at 0x101c33b10>"
      ]
     },
     "execution_count": 5,
     "metadata": {},
     "output_type": "execute_result"
    }
   ],
   "source": [
    "# data_30k = alldata[:30000]\n",
    "# data_10k = alldata.loc[np.random.choice(alldata.index, 10000, replace=False)]\n",
    "\n",
    "url = publish_gatherplot(filtered_30k, \"Cody\")\n",
    "IFrame(url, 900,900)"
   ]
  },
  {
   "cell_type": "code",
   "execution_count": 35,
   "metadata": {
    "collapsed": false
   },
   "outputs": [
    {
     "data": {
      "text/html": [
       "<div style=\"max-height:1000px;max-width:1500px;overflow:auto;\">\n",
       "<table border=\"1\" class=\"dataframe\">\n",
       "  <thead>\n",
       "    <tr style=\"text-align: right;\">\n",
       "      <th></th>\n",
       "      <th>Year</th>\n",
       "      <th>Month</th>\n",
       "      <th>DayofMonth</th>\n",
       "      <th>DayOfWeek</th>\n",
       "      <th>DepTime</th>\n",
       "      <th>CRSDepTime</th>\n",
       "      <th>ArrTime</th>\n",
       "      <th>CRSArrTime</th>\n",
       "      <th>UniqueCarrier</th>\n",
       "      <th>FlightNum</th>\n",
       "      <th>...</th>\n",
       "      <th>TaxiIn</th>\n",
       "      <th>TaxiOut</th>\n",
       "      <th>Cancelled</th>\n",
       "      <th>CancellationCode</th>\n",
       "      <th>Diverted</th>\n",
       "      <th>CarrierDelay</th>\n",
       "      <th>WeatherDelay</th>\n",
       "      <th>NASDelay</th>\n",
       "      <th>SecurityDelay</th>\n",
       "      <th>LateAircraftDelay</th>\n",
       "    </tr>\n",
       "    <tr>\n",
       "      <th>indexPandas</th>\n",
       "      <th></th>\n",
       "      <th></th>\n",
       "      <th></th>\n",
       "      <th></th>\n",
       "      <th></th>\n",
       "      <th></th>\n",
       "      <th></th>\n",
       "      <th></th>\n",
       "      <th></th>\n",
       "      <th></th>\n",
       "      <th></th>\n",
       "      <th></th>\n",
       "      <th></th>\n",
       "      <th></th>\n",
       "      <th></th>\n",
       "      <th></th>\n",
       "      <th></th>\n",
       "      <th></th>\n",
       "      <th></th>\n",
       "      <th></th>\n",
       "      <th></th>\n",
       "    </tr>\n",
       "  </thead>\n",
       "  <tbody>\n",
       "    <tr>\n",
       "      <th>0</th>\n",
       "      <td> 2008</td>\n",
       "      <td> 1</td>\n",
       "      <td> 3</td>\n",
       "      <td> 4</td>\n",
       "      <td> 2003</td>\n",
       "      <td> 1955</td>\n",
       "      <td> 2211</td>\n",
       "      <td> 2225</td>\n",
       "      <td> WN</td>\n",
       "      <td>  335</td>\n",
       "      <td>...</td>\n",
       "      <td> 4</td>\n",
       "      <td>  8</td>\n",
       "      <td> 0</td>\n",
       "      <td> NaN</td>\n",
       "      <td> 0</td>\n",
       "      <td>NaN</td>\n",
       "      <td>NaN</td>\n",
       "      <td>NaN</td>\n",
       "      <td>NaN</td>\n",
       "      <td>NaN</td>\n",
       "    </tr>\n",
       "    <tr>\n",
       "      <th>1</th>\n",
       "      <td> 2008</td>\n",
       "      <td> 1</td>\n",
       "      <td> 3</td>\n",
       "      <td> 4</td>\n",
       "      <td>  754</td>\n",
       "      <td>  735</td>\n",
       "      <td> 1002</td>\n",
       "      <td> 1000</td>\n",
       "      <td> WN</td>\n",
       "      <td> 3231</td>\n",
       "      <td>...</td>\n",
       "      <td> 5</td>\n",
       "      <td> 10</td>\n",
       "      <td> 0</td>\n",
       "      <td> NaN</td>\n",
       "      <td> 0</td>\n",
       "      <td>NaN</td>\n",
       "      <td>NaN</td>\n",
       "      <td>NaN</td>\n",
       "      <td>NaN</td>\n",
       "      <td>NaN</td>\n",
       "    </tr>\n",
       "    <tr>\n",
       "      <th>2</th>\n",
       "      <td> 2008</td>\n",
       "      <td> 1</td>\n",
       "      <td> 3</td>\n",
       "      <td> 4</td>\n",
       "      <td>  628</td>\n",
       "      <td>  620</td>\n",
       "      <td>  804</td>\n",
       "      <td>  750</td>\n",
       "      <td> WN</td>\n",
       "      <td>  448</td>\n",
       "      <td>...</td>\n",
       "      <td> 3</td>\n",
       "      <td> 17</td>\n",
       "      <td> 0</td>\n",
       "      <td> NaN</td>\n",
       "      <td> 0</td>\n",
       "      <td>NaN</td>\n",
       "      <td>NaN</td>\n",
       "      <td>NaN</td>\n",
       "      <td>NaN</td>\n",
       "      <td>NaN</td>\n",
       "    </tr>\n",
       "    <tr>\n",
       "      <th>3</th>\n",
       "      <td> 2008</td>\n",
       "      <td> 1</td>\n",
       "      <td> 3</td>\n",
       "      <td> 4</td>\n",
       "      <td>  926</td>\n",
       "      <td>  930</td>\n",
       "      <td> 1054</td>\n",
       "      <td> 1100</td>\n",
       "      <td> WN</td>\n",
       "      <td> 1746</td>\n",
       "      <td>...</td>\n",
       "      <td> 3</td>\n",
       "      <td>  7</td>\n",
       "      <td> 0</td>\n",
       "      <td> NaN</td>\n",
       "      <td> 0</td>\n",
       "      <td>NaN</td>\n",
       "      <td>NaN</td>\n",
       "      <td>NaN</td>\n",
       "      <td>NaN</td>\n",
       "      <td>NaN</td>\n",
       "    </tr>\n",
       "    <tr>\n",
       "      <th>4</th>\n",
       "      <td> 2008</td>\n",
       "      <td> 1</td>\n",
       "      <td> 3</td>\n",
       "      <td> 4</td>\n",
       "      <td> 1829</td>\n",
       "      <td> 1755</td>\n",
       "      <td> 1959</td>\n",
       "      <td> 1925</td>\n",
       "      <td> WN</td>\n",
       "      <td> 3920</td>\n",
       "      <td>...</td>\n",
       "      <td> 3</td>\n",
       "      <td> 10</td>\n",
       "      <td> 0</td>\n",
       "      <td> NaN</td>\n",
       "      <td> 0</td>\n",
       "      <td>  2</td>\n",
       "      <td>  0</td>\n",
       "      <td>  0</td>\n",
       "      <td>  0</td>\n",
       "      <td> 32</td>\n",
       "    </tr>\n",
       "  </tbody>\n",
       "</table>\n",
       "<p>5 rows × 29 columns</p>\n",
       "</div>"
      ]
     },
     "metadata": {},
     "output_type": "execute_result"
    }
   ],
   "source": [
    "data_30k.head()"
   ]
  },
  {
   "cell_type": "code",
   "execution_count": 13,
   "metadata": {
    "collapsed": false
   },
   "outputs": [
    {
     "name": "stdout",
     "output_type": "stream",
     "text": [
      "uploaded: {u'icon': u'page_white', u'bytes': 1177516, u'thumb_exists': False, u'rev': u'250f900af1980', u'modified': u'Tue, 24 Mar 2015 14:36:25 +0000', u'shareable': False, u'client_mtime': u'Tue, 24 Mar 2015 14:36:25 +0000', u'path': u'/gatherplot/1427207787.4.csv', u'is_dir': False, u'size': u'1.1 MB', u'root': u'dropbox', u'mime_type': u'text/csv', u'revision': 151801}\n",
      "Shared: {u'url': u'https://www.dropbox.com/s/vbgu0skq27k96od/1427207787.4.csv?dl=0', u'expires': u'Tue, 01 Jan 2030 00:00:00 +0000', u'visibility': u'PUBLIC'}\n",
      "https://dl.dropboxusercontent.com/s/vbgu0skq27k96od/1427207787.4.csv\n",
      "{u'name': u'-JlBCdFsyrTHY9RlpydK'}\n"
     ]
    },
    {
     "data": {
      "text/html": [
       "\n",
       "        <iframe\n",
       "            width=\"900\"\n",
       "            height=\"900\"\n",
       "            src=\"https://gatherplot-dev.firebaseapp.com/#/load/-JlBCdFsyrTHY9RlpydK\"\n",
       "            frameborder=\"0\"\n",
       "            allowfullscreen\n",
       "        ></iframe>\n",
       "        "
      ]
     },
     "metadata": {},
     "output_type": "execute_result"
    }
   ],
   "source": [
    "# data_30k = alldata[:30000]\n",
    "data_3k = alldata.loc[np.random.choice(alldata.index, 3000, replace=False)]\n",
    "\n",
    "url = publish_gatherplot(data_10k, \"Temp Airline On-time Performance random 3K data\")\n",
    "IFrame(url, 900,900)"
   ]
  },
  {
   "cell_type": "code",
   "execution_count": 14,
   "metadata": {
    "collapsed": false
   },
   "outputs": [
    {
     "name": "stdout",
     "output_type": "stream",
     "text": [
      "uploaded: {u'icon': u'page_white', u'bytes': 1180442, u'thumb_exists': False, u'rev': u'250fa00af1980', u'modified': u'Tue, 24 Mar 2015 15:08:08 +0000', u'shareable': False, u'client_mtime': u'Tue, 24 Mar 2015 15:08:08 +0000', u'path': u'/gatherplot/1427209690.57.csv', u'is_dir': False, u'size': u'1.1 MB', u'root': u'dropbox', u'mime_type': u'text/csv', u'revision': 151802}\n",
      "Shared: {u'url': u'https://www.dropbox.com/s/ss1qoq49tqd1eg1/1427209690.57.csv?dl=0', u'expires': u'Tue, 01 Jan 2030 00:00:00 +0000', u'visibility': u'PUBLIC'}\n",
      "https://dl.dropboxusercontent.com/s/ss1qoq49tqd1eg1/1427209690.57.csv\n",
      "{u'name': u'-JlBJtgufYoXKqgV7AEr'}\n"
     ]
    },
    {
     "data": {
      "text/html": [
       "\n",
       "        <iframe\n",
       "            width=\"900\"\n",
       "            height=\"900\"\n",
       "            src=\"https://gatherplot-dev.firebaseapp.com/#/load/-JlBJtgufYoXKqgV7AEr\"\n",
       "            frameborder=\"0\"\n",
       "            allowfullscreen\n",
       "        ></iframe>\n",
       "        "
      ]
     },
     "metadata": {},
     "output_type": "execute_result"
    }
   ],
   "source": [
    "# data_30k = alldata[:30000]\n",
    "data_10k = alldata.loc[np.random.choice(alldata.index, 10000, replace=False)]\n",
    "\n",
    "url = publish_gatherplot(data_10k, \"Temp Airline On-time Performance random 10K data\")\n",
    "IFrame(url, 900,900)"
   ]
  },
  {
   "cell_type": "code",
   "execution_count": null,
   "metadata": {
    "collapsed": true
   },
   "outputs": [],
   "source": []
  }
 ],
 "metadata": {
  "kernelspec": {
   "display_name": "Python 2",
   "language": "python",
   "name": "python2"
  },
  "language_info": {
   "codemirror_mode": {
    "name": "ipython",
    "version": 2
   },
   "file_extension": ".py",
   "mimetype": "text/x-python",
   "name": "python",
   "nbconvert_exporter": "python",
   "pygments_lexer": "ipython2",
   "version": "2.7.10"
  }
 },
 "nbformat": 4,
 "nbformat_minor": 0
}
